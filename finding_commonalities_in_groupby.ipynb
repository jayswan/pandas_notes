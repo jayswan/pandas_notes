{
 "cells": [
  {
   "cell_type": "markdown",
   "metadata": {},
   "source": [
    "# Finding Common Attributes in GroupBy\n",
    "Thanks to my colleague Neal for showing me this technique."
   ]
  },
  {
   "cell_type": "code",
   "execution_count": 1,
   "metadata": {},
   "outputs": [],
   "source": [
    "import pandas as pd"
   ]
  },
  {
   "cell_type": "markdown",
   "metadata": {},
   "source": [
    "Let's say we have a bunch of logs containing usernames and activity IP addresses.\n",
    "\n",
    "We want to find which IP addresses are shared by N or more users."
   ]
  },
  {
   "cell_type": "code",
   "execution_count": 2,
   "metadata": {},
   "outputs": [],
   "source": [
    "data = [\n",
    "    ['alice','10.1.1.1'],\n",
    "    ['alice','10.1.1.1'],\n",
    "    ['bob','192.168.1.2'],\n",
    "    ['cate','172.16.1.2'],\n",
    "    ['cate','10.1.1.1'],\n",
    "    ['diane','172.16.100.2'],\n",
    "    ['diane','172.16.1.2'],\n",
    "    ['edward','192.168.200.200'],\n",
    "    ['edward','172.16.100.2'],\n",
    "    ['frank','10.1.1.1']\n",
    "]"
   ]
  },
  {
   "cell_type": "code",
   "execution_count": 3,
   "metadata": {},
   "outputs": [],
   "source": [
    "df = pd.DataFrame(data,columns=['user','ip'])"
   ]
  },
  {
   "cell_type": "code",
   "execution_count": 4,
   "metadata": {},
   "outputs": [
    {
     "data": {
      "text/html": [
       "<div>\n",
       "<style scoped>\n",
       "    .dataframe tbody tr th:only-of-type {\n",
       "        vertical-align: middle;\n",
       "    }\n",
       "\n",
       "    .dataframe tbody tr th {\n",
       "        vertical-align: top;\n",
       "    }\n",
       "\n",
       "    .dataframe thead th {\n",
       "        text-align: right;\n",
       "    }\n",
       "</style>\n",
       "<table border=\"1\" class=\"dataframe\">\n",
       "  <thead>\n",
       "    <tr style=\"text-align: right;\">\n",
       "      <th></th>\n",
       "      <th>user</th>\n",
       "      <th>ip</th>\n",
       "    </tr>\n",
       "  </thead>\n",
       "  <tbody>\n",
       "    <tr>\n",
       "      <th>0</th>\n",
       "      <td>alice</td>\n",
       "      <td>10.1.1.1</td>\n",
       "    </tr>\n",
       "    <tr>\n",
       "      <th>1</th>\n",
       "      <td>alice</td>\n",
       "      <td>10.1.1.1</td>\n",
       "    </tr>\n",
       "    <tr>\n",
       "      <th>2</th>\n",
       "      <td>bob</td>\n",
       "      <td>192.168.1.2</td>\n",
       "    </tr>\n",
       "    <tr>\n",
       "      <th>3</th>\n",
       "      <td>cate</td>\n",
       "      <td>172.16.1.2</td>\n",
       "    </tr>\n",
       "    <tr>\n",
       "      <th>4</th>\n",
       "      <td>cate</td>\n",
       "      <td>10.1.1.1</td>\n",
       "    </tr>\n",
       "    <tr>\n",
       "      <th>5</th>\n",
       "      <td>diane</td>\n",
       "      <td>172.16.100.2</td>\n",
       "    </tr>\n",
       "    <tr>\n",
       "      <th>6</th>\n",
       "      <td>diane</td>\n",
       "      <td>172.16.1.2</td>\n",
       "    </tr>\n",
       "    <tr>\n",
       "      <th>7</th>\n",
       "      <td>edward</td>\n",
       "      <td>192.168.200.200</td>\n",
       "    </tr>\n",
       "    <tr>\n",
       "      <th>8</th>\n",
       "      <td>edward</td>\n",
       "      <td>172.16.100.2</td>\n",
       "    </tr>\n",
       "    <tr>\n",
       "      <th>9</th>\n",
       "      <td>frank</td>\n",
       "      <td>10.1.1.1</td>\n",
       "    </tr>\n",
       "  </tbody>\n",
       "</table>\n",
       "</div>"
      ],
      "text/plain": [
       "     user               ip\n",
       "0   alice         10.1.1.1\n",
       "1   alice         10.1.1.1\n",
       "2     bob      192.168.1.2\n",
       "3    cate       172.16.1.2\n",
       "4    cate         10.1.1.1\n",
       "5   diane     172.16.100.2\n",
       "6   diane       172.16.1.2\n",
       "7  edward  192.168.200.200\n",
       "8  edward     172.16.100.2\n",
       "9   frank         10.1.1.1"
      ]
     },
     "execution_count": 4,
     "metadata": {},
     "output_type": "execute_result"
    }
   ],
   "source": [
    "df"
   ]
  },
  {
   "cell_type": "markdown",
   "metadata": {},
   "source": [
    "Here's a fairly standard \"aggregate and count\" method, but neither version tells us what addresses are shared by N or more users, without more work:"
   ]
  },
  {
   "cell_type": "code",
   "execution_count": 5,
   "metadata": {},
   "outputs": [
    {
     "data": {
      "text/plain": [
       "ip\n",
       "10.1.1.1           4\n",
       "172.16.1.2         2\n",
       "172.16.100.2       2\n",
       "192.168.1.2        1\n",
       "192.168.200.200    1\n",
       "dtype: int64"
      ]
     },
     "execution_count": 5,
     "metadata": {},
     "output_type": "execute_result"
    }
   ],
   "source": [
    "df.groupby('ip').size()"
   ]
  },
  {
   "cell_type": "code",
   "execution_count": 6,
   "metadata": {},
   "outputs": [
    {
     "data": {
      "text/plain": [
       "user    ip             \n",
       "alice   10.1.1.1           2\n",
       "bob     192.168.1.2        1\n",
       "cate    10.1.1.1           1\n",
       "        172.16.1.2         1\n",
       "diane   172.16.1.2         1\n",
       "        172.16.100.2       1\n",
       "edward  172.16.100.2       1\n",
       "        192.168.200.200    1\n",
       "frank   10.1.1.1           1\n",
       "dtype: int64"
      ]
     },
     "execution_count": 6,
     "metadata": {},
     "output_type": "execute_result"
    }
   ],
   "source": [
    "df.groupby(['user','ip']).size()"
   ]
  },
  {
   "cell_type": "markdown",
   "metadata": {},
   "source": [
    "Here's what's actually inside a GroupBy object. It groups the DataFrame into rows based on indexes referencing the original DataFrame:"
   ]
  },
  {
   "cell_type": "code",
   "execution_count": 7,
   "metadata": {},
   "outputs": [
    {
     "data": {
      "text/plain": [
       "{'10.1.1.1': Int64Index([0, 1, 4, 9], dtype='int64'),\n",
       " '172.16.1.2': Int64Index([3, 6], dtype='int64'),\n",
       " '172.16.100.2': Int64Index([5, 8], dtype='int64'),\n",
       " '192.168.1.2': Int64Index([2], dtype='int64'),\n",
       " '192.168.200.200': Int64Index([7], dtype='int64')}"
      ]
     },
     "execution_count": 7,
     "metadata": {},
     "output_type": "execute_result"
    }
   ],
   "source": [
    "df.groupby('ip').groups"
   ]
  },
  {
   "cell_type": "markdown",
   "metadata": {},
   "source": [
    "Let's say we want to see any IPs with at least two common users:"
   ]
  },
  {
   "cell_type": "code",
   "execution_count": 8,
   "metadata": {},
   "outputs": [],
   "source": [
    "minimum_users_sharing_ip = 2"
   ]
  },
  {
   "cell_type": "markdown",
   "metadata": {},
   "source": [
    "Putting our code inside parentheses is a convenience that allows us to read chained functions more easily and use comments to better understand it:"
   ]
  },
  {
   "cell_type": "code",
   "execution_count": 15,
   "metadata": {},
   "outputs": [
    {
     "data": {
      "text/html": [
       "<div>\n",
       "<style scoped>\n",
       "    .dataframe tbody tr th:only-of-type {\n",
       "        vertical-align: middle;\n",
       "    }\n",
       "\n",
       "    .dataframe tbody tr th {\n",
       "        vertical-align: top;\n",
       "    }\n",
       "\n",
       "    .dataframe thead th {\n",
       "        text-align: right;\n",
       "    }\n",
       "</style>\n",
       "<table border=\"1\" class=\"dataframe\">\n",
       "  <thead>\n",
       "    <tr style=\"text-align: right;\">\n",
       "      <th></th>\n",
       "      <th>user</th>\n",
       "    </tr>\n",
       "    <tr>\n",
       "      <th>ip</th>\n",
       "      <th></th>\n",
       "    </tr>\n",
       "  </thead>\n",
       "  <tbody>\n",
       "    <tr>\n",
       "      <th>10.1.1.1</th>\n",
       "      <td>[alice, cate, frank]</td>\n",
       "    </tr>\n",
       "    <tr>\n",
       "      <th>172.16.1.2</th>\n",
       "      <td>[cate, diane]</td>\n",
       "    </tr>\n",
       "    <tr>\n",
       "      <th>172.16.100.2</th>\n",
       "      <td>[diane, edward]</td>\n",
       "    </tr>\n",
       "  </tbody>\n",
       "</table>\n",
       "</div>"
      ],
      "text/plain": [
       "                              user\n",
       "ip                                \n",
       "10.1.1.1      [alice, cate, frank]\n",
       "172.16.1.2           [cate, diane]\n",
       "172.16.100.2       [diane, edward]"
      ]
     },
     "execution_count": 15,
     "metadata": {},
     "output_type": "execute_result"
    }
   ],
   "source": [
    "(\n",
    "df.groupby('ip')\n",
    "  .filter(lambda x: len(set(x['user'])) >= minimum_users_sharing_ip)\n",
    "  .reset_index()\n",
    "  .groupby('ip')\n",
    "  .agg({'user':'unique'})\n",
    ")"
   ]
  },
  {
   "cell_type": "markdown",
   "metadata": {},
   "source": [
    "So, why does that work? The `filter` function iterates the `GroupBy` object groups (shown above) and looks at the number of unique users in each row after grouping by IP. If the number is greater than or equal to 2, it includes those rows in the filtered DataFrame:"
   ]
  },
  {
   "cell_type": "code",
   "execution_count": 16,
   "metadata": {},
   "outputs": [
    {
     "data": {
      "text/html": [
       "<div>\n",
       "<style scoped>\n",
       "    .dataframe tbody tr th:only-of-type {\n",
       "        vertical-align: middle;\n",
       "    }\n",
       "\n",
       "    .dataframe tbody tr th {\n",
       "        vertical-align: top;\n",
       "    }\n",
       "\n",
       "    .dataframe thead th {\n",
       "        text-align: right;\n",
       "    }\n",
       "</style>\n",
       "<table border=\"1\" class=\"dataframe\">\n",
       "  <thead>\n",
       "    <tr style=\"text-align: right;\">\n",
       "      <th></th>\n",
       "      <th>user</th>\n",
       "      <th>ip</th>\n",
       "    </tr>\n",
       "  </thead>\n",
       "  <tbody>\n",
       "    <tr>\n",
       "      <th>0</th>\n",
       "      <td>alice</td>\n",
       "      <td>10.1.1.1</td>\n",
       "    </tr>\n",
       "    <tr>\n",
       "      <th>1</th>\n",
       "      <td>alice</td>\n",
       "      <td>10.1.1.1</td>\n",
       "    </tr>\n",
       "    <tr>\n",
       "      <th>3</th>\n",
       "      <td>cate</td>\n",
       "      <td>172.16.1.2</td>\n",
       "    </tr>\n",
       "    <tr>\n",
       "      <th>4</th>\n",
       "      <td>cate</td>\n",
       "      <td>10.1.1.1</td>\n",
       "    </tr>\n",
       "    <tr>\n",
       "      <th>5</th>\n",
       "      <td>diane</td>\n",
       "      <td>172.16.100.2</td>\n",
       "    </tr>\n",
       "    <tr>\n",
       "      <th>6</th>\n",
       "      <td>diane</td>\n",
       "      <td>172.16.1.2</td>\n",
       "    </tr>\n",
       "    <tr>\n",
       "      <th>8</th>\n",
       "      <td>edward</td>\n",
       "      <td>172.16.100.2</td>\n",
       "    </tr>\n",
       "    <tr>\n",
       "      <th>9</th>\n",
       "      <td>frank</td>\n",
       "      <td>10.1.1.1</td>\n",
       "    </tr>\n",
       "  </tbody>\n",
       "</table>\n",
       "</div>"
      ],
      "text/plain": [
       "     user            ip\n",
       "0   alice      10.1.1.1\n",
       "1   alice      10.1.1.1\n",
       "3    cate    172.16.1.2\n",
       "4    cate      10.1.1.1\n",
       "5   diane  172.16.100.2\n",
       "6   diane    172.16.1.2\n",
       "8  edward  172.16.100.2\n",
       "9   frank      10.1.1.1"
      ]
     },
     "execution_count": 16,
     "metadata": {},
     "output_type": "execute_result"
    }
   ],
   "source": [
    "(\n",
    "df.groupby('ip')\n",
    "  .filter(lambda x: len(set(x['user'])) >= minimum_users_sharing_ip)\n",
    "  #.reset_index().groupby('ip').agg({'user':'unique'})\n",
    ")"
   ]
  },
  {
   "cell_type": "markdown",
   "metadata": {},
   "source": [
    "The subsequent `.reset_index().groupby('ip')` part groups the new DataFrame again by IP:"
   ]
  },
  {
   "cell_type": "code",
   "execution_count": 17,
   "metadata": {},
   "outputs": [
    {
     "data": {
      "text/plain": [
       "{'10.1.1.1': Int64Index([0, 1, 3, 7], dtype='int64'),\n",
       " '172.16.1.2': Int64Index([2, 5], dtype='int64'),\n",
       " '172.16.100.2': Int64Index([4, 6], dtype='int64')}"
      ]
     },
     "execution_count": 17,
     "metadata": {},
     "output_type": "execute_result"
    }
   ],
   "source": [
    "(\n",
    "df.groupby('ip')\n",
    "  .filter(lambda x: len(set(x['user'])) >= minimum_users_sharing_ip)\n",
    "  .reset_index().groupby('ip')\n",
    "  .groups\n",
    "  #.agg({'user':'unique'})\n",
    ")"
   ]
  },
  {
   "cell_type": "markdown",
   "metadata": {},
   "source": [
    "And finally, the `.agg({'user':'unique'})` function aggregates the object using a built-in function that groups unique users together.\n",
    "\n",
    "We can turn that into a function:"
   ]
  },
  {
   "cell_type": "code",
   "execution_count": 18,
   "metadata": {},
   "outputs": [],
   "source": [
    "def find_minimum_intersecting_users(df,minimum_users_sharing_ip):\n",
    "    return \\\n",
    "        (\n",
    "        df.groupby('ip')\n",
    "          .filter(lambda x: len(set(x['user'])) >= minimum_users_sharing_ip)\n",
    "          .reset_index()\n",
    "          .groupby('ip')\n",
    "          .agg({'user':'unique'})\n",
    "        )"
   ]
  },
  {
   "cell_type": "code",
   "execution_count": 20,
   "metadata": {},
   "outputs": [
    {
     "data": {
      "text/html": [
       "<div>\n",
       "<style scoped>\n",
       "    .dataframe tbody tr th:only-of-type {\n",
       "        vertical-align: middle;\n",
       "    }\n",
       "\n",
       "    .dataframe tbody tr th {\n",
       "        vertical-align: top;\n",
       "    }\n",
       "\n",
       "    .dataframe thead th {\n",
       "        text-align: right;\n",
       "    }\n",
       "</style>\n",
       "<table border=\"1\" class=\"dataframe\">\n",
       "  <thead>\n",
       "    <tr style=\"text-align: right;\">\n",
       "      <th></th>\n",
       "      <th>user</th>\n",
       "    </tr>\n",
       "    <tr>\n",
       "      <th>ip</th>\n",
       "      <th></th>\n",
       "    </tr>\n",
       "  </thead>\n",
       "  <tbody>\n",
       "    <tr>\n",
       "      <th>10.1.1.1</th>\n",
       "      <td>[alice, cate, frank]</td>\n",
       "    </tr>\n",
       "    <tr>\n",
       "      <th>172.16.1.2</th>\n",
       "      <td>[cate, diane]</td>\n",
       "    </tr>\n",
       "    <tr>\n",
       "      <th>172.16.100.2</th>\n",
       "      <td>[diane, edward]</td>\n",
       "    </tr>\n",
       "  </tbody>\n",
       "</table>\n",
       "</div>"
      ],
      "text/plain": [
       "                              user\n",
       "ip                                \n",
       "10.1.1.1      [alice, cate, frank]\n",
       "172.16.1.2           [cate, diane]\n",
       "172.16.100.2       [diane, edward]"
      ]
     },
     "execution_count": 20,
     "metadata": {},
     "output_type": "execute_result"
    }
   ],
   "source": [
    "find_minimum_intersecting_users(df,2)"
   ]
  },
  {
   "cell_type": "code",
   "execution_count": 21,
   "metadata": {},
   "outputs": [
    {
     "data": {
      "text/html": [
       "<div>\n",
       "<style scoped>\n",
       "    .dataframe tbody tr th:only-of-type {\n",
       "        vertical-align: middle;\n",
       "    }\n",
       "\n",
       "    .dataframe tbody tr th {\n",
       "        vertical-align: top;\n",
       "    }\n",
       "\n",
       "    .dataframe thead th {\n",
       "        text-align: right;\n",
       "    }\n",
       "</style>\n",
       "<table border=\"1\" class=\"dataframe\">\n",
       "  <thead>\n",
       "    <tr style=\"text-align: right;\">\n",
       "      <th></th>\n",
       "      <th>user</th>\n",
       "    </tr>\n",
       "    <tr>\n",
       "      <th>ip</th>\n",
       "      <th></th>\n",
       "    </tr>\n",
       "  </thead>\n",
       "  <tbody>\n",
       "    <tr>\n",
       "      <th>10.1.1.1</th>\n",
       "      <td>[alice, cate, frank]</td>\n",
       "    </tr>\n",
       "  </tbody>\n",
       "</table>\n",
       "</div>"
      ],
      "text/plain": [
       "                          user\n",
       "ip                            \n",
       "10.1.1.1  [alice, cate, frank]"
      ]
     },
     "execution_count": 21,
     "metadata": {},
     "output_type": "execute_result"
    }
   ],
   "source": [
    "find_minimum_intersecting_users(df,3)"
   ]
  },
  {
   "cell_type": "code",
   "execution_count": null,
   "metadata": {},
   "outputs": [],
   "source": []
  }
 ],
 "metadata": {
  "kernelspec": {
   "display_name": "Python 3",
   "language": "python",
   "name": "python3"
  },
  "language_info": {
   "codemirror_mode": {
    "name": "ipython",
    "version": 3
   },
   "file_extension": ".py",
   "mimetype": "text/x-python",
   "name": "python",
   "nbconvert_exporter": "python",
   "pygments_lexer": "ipython3",
   "version": "3.7.6"
  }
 },
 "nbformat": 4,
 "nbformat_minor": 2
}
