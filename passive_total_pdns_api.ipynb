{
 "cells": [
  {
   "cell_type": "markdown",
   "metadata": {},
   "source": [
    "# Working with PassiveTotal Data in DataFrames\n",
    "This example assumes you have the PassiveTotal python API module installed and your credentials configured."
   ]
  },
  {
   "cell_type": "code",
   "execution_count": 1,
   "metadata": {},
   "outputs": [],
   "source": [
    "from passivetotal.libs.dns import DnsRequest\n",
    "import pandas as pd\n",
    "from pandas import Timestamp"
   ]
  },
  {
   "cell_type": "markdown",
   "metadata": {},
   "source": [
    "Create a PassiveTotal client object:"
   ]
  },
  {
   "cell_type": "code",
   "execution_count": 2,
   "metadata": {},
   "outputs": [],
   "source": [
    "client = DnsRequest.from_config()"
   ]
  },
  {
   "cell_type": "markdown",
   "metadata": {},
   "source": [
    "Get the results for a recent GitHub-targeted phishing domain:"
   ]
  },
  {
   "cell_type": "code",
   "execution_count": 3,
   "metadata": {},
   "outputs": [],
   "source": [
    "r = client.get_passive_dns(query='glthubs.com')"
   ]
  },
  {
   "cell_type": "markdown",
   "metadata": {},
   "source": [
    "Creating a DataFrame from all the data returned is simple:"
   ]
  },
  {
   "cell_type": "code",
   "execution_count": 4,
   "metadata": {},
   "outputs": [],
   "source": [
    "df = pd.DataFrame(r.get('results'))"
   ]
  },
  {
   "cell_type": "code",
   "execution_count": 5,
   "metadata": {},
   "outputs": [
    {
     "data": {
      "text/html": [
       "<div>\n",
       "<style scoped>\n",
       "    .dataframe tbody tr th:only-of-type {\n",
       "        vertical-align: middle;\n",
       "    }\n",
       "\n",
       "    .dataframe tbody tr th {\n",
       "        vertical-align: top;\n",
       "    }\n",
       "\n",
       "    .dataframe thead th {\n",
       "        text-align: right;\n",
       "    }\n",
       "</style>\n",
       "<table border=\"1\" class=\"dataframe\">\n",
       "  <thead>\n",
       "    <tr style=\"text-align: right;\">\n",
       "      <th></th>\n",
       "      <th>collected</th>\n",
       "      <th>firstSeen</th>\n",
       "      <th>lastSeen</th>\n",
       "      <th>recordHash</th>\n",
       "      <th>recordType</th>\n",
       "      <th>resolve</th>\n",
       "      <th>resolveType</th>\n",
       "      <th>source</th>\n",
       "      <th>value</th>\n",
       "    </tr>\n",
       "  </thead>\n",
       "  <tbody>\n",
       "    <tr>\n",
       "      <th>0</th>\n",
       "      <td>2020-04-11 21:47:28</td>\n",
       "      <td>2020-04-03 12:42:30</td>\n",
       "      <td>2020-04-04 23:45:06</td>\n",
       "      <td>33f09dc22d89b91429d630eccb991243ce55161c22df70...</td>\n",
       "      <td>NS</td>\n",
       "      <td>2-can.njalla.in</td>\n",
       "      <td>domain</td>\n",
       "      <td>[riskiq]</td>\n",
       "      <td>glthubs.com</td>\n",
       "    </tr>\n",
       "    <tr>\n",
       "      <th>1</th>\n",
       "      <td>2020-04-11 21:47:29</td>\n",
       "      <td>2020-04-03 17:00:00</td>\n",
       "      <td>2020-04-04 23:44:47</td>\n",
       "      <td>f0eaa8f0d6b4ca80e55fc385c27c4568896b9a036d6748...</td>\n",
       "      <td>A</td>\n",
       "      <td>46.17.96.88</td>\n",
       "      <td>ip</td>\n",
       "      <td>[riskiq, emerging_threats, kaspersky]</td>\n",
       "      <td>glthubs.com</td>\n",
       "    </tr>\n",
       "    <tr>\n",
       "      <th>2</th>\n",
       "      <td>2020-04-11 21:47:28</td>\n",
       "      <td>2020-04-03 12:42:30</td>\n",
       "      <td>2020-04-04 23:45:06</td>\n",
       "      <td>47b9f9b1e68a34ea922738ef35f4bf1601b31d4806a1bc...</td>\n",
       "      <td>NS</td>\n",
       "      <td>3-get.njalla.fo</td>\n",
       "      <td>domain</td>\n",
       "      <td>[riskiq]</td>\n",
       "      <td>glthubs.com</td>\n",
       "    </tr>\n",
       "    <tr>\n",
       "      <th>3</th>\n",
       "      <td>2020-04-11 21:47:29</td>\n",
       "      <td>2020-04-03 12:42:30</td>\n",
       "      <td>2020-04-03 22:42:29</td>\n",
       "      <td>f99029cfbb09f0728dac56b2d7659c552889c0a88dadb8...</td>\n",
       "      <td>A</td>\n",
       "      <td>185.163.47.164</td>\n",
       "      <td>ip</td>\n",
       "      <td>[riskiq, kaspersky]</td>\n",
       "      <td>glthubs.com</td>\n",
       "    </tr>\n",
       "    <tr>\n",
       "      <th>4</th>\n",
       "      <td>2020-04-11 21:47:28</td>\n",
       "      <td>2020-04-03 12:42:30</td>\n",
       "      <td>2020-04-04 23:45:06</td>\n",
       "      <td>febe023b5f2df659ba33f1ba0728dffec560fc16e0543c...</td>\n",
       "      <td>NS</td>\n",
       "      <td>1-you.njalla.no</td>\n",
       "      <td>domain</td>\n",
       "      <td>[riskiq]</td>\n",
       "      <td>glthubs.com</td>\n",
       "    </tr>\n",
       "    <tr>\n",
       "      <th>5</th>\n",
       "      <td>2020-04-11 21:47:28</td>\n",
       "      <td>2020-04-03 12:42:30</td>\n",
       "      <td>2020-04-04 23:44:55</td>\n",
       "      <td>e7446ef4647ecbd7e291dd33934265567c7edcbb466936...</td>\n",
       "      <td>SOA</td>\n",
       "      <td>you@can-get-no.info</td>\n",
       "      <td>email</td>\n",
       "      <td>[riskiq]</td>\n",
       "      <td>glthubs.com</td>\n",
       "    </tr>\n",
       "    <tr>\n",
       "      <th>6</th>\n",
       "      <td>2020-04-11 21:47:28</td>\n",
       "      <td>2020-04-03 12:42:30</td>\n",
       "      <td>2020-04-04 23:44:55</td>\n",
       "      <td>cbfc9de9aba2d112d7ebcfa3bddfc5fc4a1b9133d706f7...</td>\n",
       "      <td>SOA</td>\n",
       "      <td>1-you.njalla.no.</td>\n",
       "      <td>domain</td>\n",
       "      <td>[riskiq]</td>\n",
       "      <td>glthubs.com</td>\n",
       "    </tr>\n",
       "  </tbody>\n",
       "</table>\n",
       "</div>"
      ],
      "text/plain": [
       "             collected            firstSeen             lastSeen  \\\n",
       "0  2020-04-11 21:47:28  2020-04-03 12:42:30  2020-04-04 23:45:06   \n",
       "1  2020-04-11 21:47:29  2020-04-03 17:00:00  2020-04-04 23:44:47   \n",
       "2  2020-04-11 21:47:28  2020-04-03 12:42:30  2020-04-04 23:45:06   \n",
       "3  2020-04-11 21:47:29  2020-04-03 12:42:30  2020-04-03 22:42:29   \n",
       "4  2020-04-11 21:47:28  2020-04-03 12:42:30  2020-04-04 23:45:06   \n",
       "5  2020-04-11 21:47:28  2020-04-03 12:42:30  2020-04-04 23:44:55   \n",
       "6  2020-04-11 21:47:28  2020-04-03 12:42:30  2020-04-04 23:44:55   \n",
       "\n",
       "                                          recordHash recordType  \\\n",
       "0  33f09dc22d89b91429d630eccb991243ce55161c22df70...         NS   \n",
       "1  f0eaa8f0d6b4ca80e55fc385c27c4568896b9a036d6748...          A   \n",
       "2  47b9f9b1e68a34ea922738ef35f4bf1601b31d4806a1bc...         NS   \n",
       "3  f99029cfbb09f0728dac56b2d7659c552889c0a88dadb8...          A   \n",
       "4  febe023b5f2df659ba33f1ba0728dffec560fc16e0543c...         NS   \n",
       "5  e7446ef4647ecbd7e291dd33934265567c7edcbb466936...        SOA   \n",
       "6  cbfc9de9aba2d112d7ebcfa3bddfc5fc4a1b9133d706f7...        SOA   \n",
       "\n",
       "               resolve resolveType                                 source  \\\n",
       "0      2-can.njalla.in      domain                               [riskiq]   \n",
       "1          46.17.96.88          ip  [riskiq, emerging_threats, kaspersky]   \n",
       "2      3-get.njalla.fo      domain                               [riskiq]   \n",
       "3       185.163.47.164          ip                    [riskiq, kaspersky]   \n",
       "4      1-you.njalla.no      domain                               [riskiq]   \n",
       "5  you@can-get-no.info       email                               [riskiq]   \n",
       "6     1-you.njalla.no.      domain                               [riskiq]   \n",
       "\n",
       "         value  \n",
       "0  glthubs.com  \n",
       "1  glthubs.com  \n",
       "2  glthubs.com  \n",
       "3  glthubs.com  \n",
       "4  glthubs.com  \n",
       "5  glthubs.com  \n",
       "6  glthubs.com  "
      ]
     },
     "execution_count": 5,
     "metadata": {},
     "output_type": "execute_result"
    }
   ],
   "source": [
    "df"
   ]
  },
  {
   "cell_type": "markdown",
   "metadata": {},
   "source": [
    "Not all the columns are super interesting, however. Let's create a function that:\n",
    "\n",
    "- returns the most interesting columns\n",
    "- coverts the firstSeen and lastSeen columns to Timemstamps that we can use for filtering\n",
    "- optionally filters the results to one DNS record type"
   ]
  },
  {
   "cell_type": "code",
   "execution_count": 6,
   "metadata": {},
   "outputs": [],
   "source": [
    "def pt2df(value,rt=None):\n",
    "    client = DnsRequest.from_config()\n",
    "    columns = ['firstSeen','lastSeen','recordType','resolve','resolveType','value']\n",
    "    result = client.get_passive_dns(query=value).get('results')\n",
    "    df = pd.DataFrame(result)[columns]\n",
    "    df[['firstSeen','lastSeen']] = df[['firstSeen','lastSeen']].apply(pd.to_datetime)\n",
    "    if rt is None:\n",
    "        return df\n",
    "    else:\n",
    "        return df[df.recordType==rt]"
   ]
  },
  {
   "cell_type": "markdown",
   "metadata": {},
   "source": [
    "Here's our filtered DataFrame:"
   ]
  },
  {
   "cell_type": "code",
   "execution_count": 7,
   "metadata": {},
   "outputs": [
    {
     "data": {
      "text/html": [
       "<div>\n",
       "<style scoped>\n",
       "    .dataframe tbody tr th:only-of-type {\n",
       "        vertical-align: middle;\n",
       "    }\n",
       "\n",
       "    .dataframe tbody tr th {\n",
       "        vertical-align: top;\n",
       "    }\n",
       "\n",
       "    .dataframe thead th {\n",
       "        text-align: right;\n",
       "    }\n",
       "</style>\n",
       "<table border=\"1\" class=\"dataframe\">\n",
       "  <thead>\n",
       "    <tr style=\"text-align: right;\">\n",
       "      <th></th>\n",
       "      <th>firstSeen</th>\n",
       "      <th>lastSeen</th>\n",
       "      <th>recordType</th>\n",
       "      <th>resolve</th>\n",
       "      <th>resolveType</th>\n",
       "      <th>value</th>\n",
       "    </tr>\n",
       "  </thead>\n",
       "  <tbody>\n",
       "    <tr>\n",
       "      <th>0</th>\n",
       "      <td>2020-04-03 12:42:30</td>\n",
       "      <td>2020-04-04 23:45:06</td>\n",
       "      <td>NS</td>\n",
       "      <td>2-can.njalla.in</td>\n",
       "      <td>domain</td>\n",
       "      <td>glthubs.com</td>\n",
       "    </tr>\n",
       "    <tr>\n",
       "      <th>1</th>\n",
       "      <td>2020-04-03 17:00:00</td>\n",
       "      <td>2020-04-04 23:44:47</td>\n",
       "      <td>A</td>\n",
       "      <td>46.17.96.88</td>\n",
       "      <td>ip</td>\n",
       "      <td>glthubs.com</td>\n",
       "    </tr>\n",
       "    <tr>\n",
       "      <th>2</th>\n",
       "      <td>2020-04-03 12:42:30</td>\n",
       "      <td>2020-04-04 23:45:06</td>\n",
       "      <td>NS</td>\n",
       "      <td>3-get.njalla.fo</td>\n",
       "      <td>domain</td>\n",
       "      <td>glthubs.com</td>\n",
       "    </tr>\n",
       "    <tr>\n",
       "      <th>3</th>\n",
       "      <td>2020-04-03 12:42:30</td>\n",
       "      <td>2020-04-03 22:42:29</td>\n",
       "      <td>A</td>\n",
       "      <td>185.163.47.164</td>\n",
       "      <td>ip</td>\n",
       "      <td>glthubs.com</td>\n",
       "    </tr>\n",
       "    <tr>\n",
       "      <th>4</th>\n",
       "      <td>2020-04-03 12:42:30</td>\n",
       "      <td>2020-04-04 23:45:06</td>\n",
       "      <td>NS</td>\n",
       "      <td>1-you.njalla.no</td>\n",
       "      <td>domain</td>\n",
       "      <td>glthubs.com</td>\n",
       "    </tr>\n",
       "    <tr>\n",
       "      <th>5</th>\n",
       "      <td>2020-04-03 12:42:30</td>\n",
       "      <td>2020-04-04 23:44:55</td>\n",
       "      <td>SOA</td>\n",
       "      <td>you@can-get-no.info</td>\n",
       "      <td>email</td>\n",
       "      <td>glthubs.com</td>\n",
       "    </tr>\n",
       "    <tr>\n",
       "      <th>6</th>\n",
       "      <td>2020-04-03 12:42:30</td>\n",
       "      <td>2020-04-04 23:44:55</td>\n",
       "      <td>SOA</td>\n",
       "      <td>1-you.njalla.no.</td>\n",
       "      <td>domain</td>\n",
       "      <td>glthubs.com</td>\n",
       "    </tr>\n",
       "  </tbody>\n",
       "</table>\n",
       "</div>"
      ],
      "text/plain": [
       "            firstSeen            lastSeen recordType              resolve  \\\n",
       "0 2020-04-03 12:42:30 2020-04-04 23:45:06         NS      2-can.njalla.in   \n",
       "1 2020-04-03 17:00:00 2020-04-04 23:44:47          A          46.17.96.88   \n",
       "2 2020-04-03 12:42:30 2020-04-04 23:45:06         NS      3-get.njalla.fo   \n",
       "3 2020-04-03 12:42:30 2020-04-03 22:42:29          A       185.163.47.164   \n",
       "4 2020-04-03 12:42:30 2020-04-04 23:45:06         NS      1-you.njalla.no   \n",
       "5 2020-04-03 12:42:30 2020-04-04 23:44:55        SOA  you@can-get-no.info   \n",
       "6 2020-04-03 12:42:30 2020-04-04 23:44:55        SOA     1-you.njalla.no.   \n",
       "\n",
       "  resolveType        value  \n",
       "0      domain  glthubs.com  \n",
       "1          ip  glthubs.com  \n",
       "2      domain  glthubs.com  \n",
       "3          ip  glthubs.com  \n",
       "4      domain  glthubs.com  \n",
       "5       email  glthubs.com  \n",
       "6      domain  glthubs.com  "
      ]
     },
     "execution_count": 7,
     "metadata": {},
     "output_type": "execute_result"
    }
   ],
   "source": [
    "df = pt2df('glthubs.com')\n",
    "df"
   ]
  },
  {
   "cell_type": "markdown",
   "metadata": {},
   "source": [
    "Note that the date columns are now typed as Pandas Timestamp objects:"
   ]
  },
  {
   "cell_type": "code",
   "execution_count": 8,
   "metadata": {},
   "outputs": [
    {
     "data": {
      "text/plain": [
       "pandas._libs.tslibs.timestamps.Timestamp"
      ]
     },
     "execution_count": 8,
     "metadata": {},
     "output_type": "execute_result"
    }
   ],
   "source": [
    "type(df.firstSeen.iloc[0])"
   ]
  },
  {
   "cell_type": "markdown",
   "metadata": {},
   "source": [
    "This means we can trivially filter based on those columns:"
   ]
  },
  {
   "cell_type": "code",
   "execution_count": 9,
   "metadata": {},
   "outputs": [
    {
     "data": {
      "text/html": [
       "<div>\n",
       "<style scoped>\n",
       "    .dataframe tbody tr th:only-of-type {\n",
       "        vertical-align: middle;\n",
       "    }\n",
       "\n",
       "    .dataframe tbody tr th {\n",
       "        vertical-align: top;\n",
       "    }\n",
       "\n",
       "    .dataframe thead th {\n",
       "        text-align: right;\n",
       "    }\n",
       "</style>\n",
       "<table border=\"1\" class=\"dataframe\">\n",
       "  <thead>\n",
       "    <tr style=\"text-align: right;\">\n",
       "      <th></th>\n",
       "      <th>firstSeen</th>\n",
       "      <th>lastSeen</th>\n",
       "      <th>recordType</th>\n",
       "      <th>resolve</th>\n",
       "      <th>resolveType</th>\n",
       "      <th>value</th>\n",
       "    </tr>\n",
       "  </thead>\n",
       "  <tbody>\n",
       "    <tr>\n",
       "      <th>0</th>\n",
       "      <td>2020-04-03 12:42:30</td>\n",
       "      <td>2020-04-04 23:45:06</td>\n",
       "      <td>NS</td>\n",
       "      <td>2-can.njalla.in</td>\n",
       "      <td>domain</td>\n",
       "      <td>glthubs.com</td>\n",
       "    </tr>\n",
       "    <tr>\n",
       "      <th>1</th>\n",
       "      <td>2020-04-03 17:00:00</td>\n",
       "      <td>2020-04-04 23:44:47</td>\n",
       "      <td>A</td>\n",
       "      <td>46.17.96.88</td>\n",
       "      <td>ip</td>\n",
       "      <td>glthubs.com</td>\n",
       "    </tr>\n",
       "    <tr>\n",
       "      <th>2</th>\n",
       "      <td>2020-04-03 12:42:30</td>\n",
       "      <td>2020-04-04 23:45:06</td>\n",
       "      <td>NS</td>\n",
       "      <td>3-get.njalla.fo</td>\n",
       "      <td>domain</td>\n",
       "      <td>glthubs.com</td>\n",
       "    </tr>\n",
       "    <tr>\n",
       "      <th>4</th>\n",
       "      <td>2020-04-03 12:42:30</td>\n",
       "      <td>2020-04-04 23:45:06</td>\n",
       "      <td>NS</td>\n",
       "      <td>1-you.njalla.no</td>\n",
       "      <td>domain</td>\n",
       "      <td>glthubs.com</td>\n",
       "    </tr>\n",
       "    <tr>\n",
       "      <th>5</th>\n",
       "      <td>2020-04-03 12:42:30</td>\n",
       "      <td>2020-04-04 23:44:55</td>\n",
       "      <td>SOA</td>\n",
       "      <td>you@can-get-no.info</td>\n",
       "      <td>email</td>\n",
       "      <td>glthubs.com</td>\n",
       "    </tr>\n",
       "    <tr>\n",
       "      <th>6</th>\n",
       "      <td>2020-04-03 12:42:30</td>\n",
       "      <td>2020-04-04 23:44:55</td>\n",
       "      <td>SOA</td>\n",
       "      <td>1-you.njalla.no.</td>\n",
       "      <td>domain</td>\n",
       "      <td>glthubs.com</td>\n",
       "    </tr>\n",
       "  </tbody>\n",
       "</table>\n",
       "</div>"
      ],
      "text/plain": [
       "            firstSeen            lastSeen recordType              resolve  \\\n",
       "0 2020-04-03 12:42:30 2020-04-04 23:45:06         NS      2-can.njalla.in   \n",
       "1 2020-04-03 17:00:00 2020-04-04 23:44:47          A          46.17.96.88   \n",
       "2 2020-04-03 12:42:30 2020-04-04 23:45:06         NS      3-get.njalla.fo   \n",
       "4 2020-04-03 12:42:30 2020-04-04 23:45:06         NS      1-you.njalla.no   \n",
       "5 2020-04-03 12:42:30 2020-04-04 23:44:55        SOA  you@can-get-no.info   \n",
       "6 2020-04-03 12:42:30 2020-04-04 23:44:55        SOA     1-you.njalla.no.   \n",
       "\n",
       "  resolveType        value  \n",
       "0      domain  glthubs.com  \n",
       "1          ip  glthubs.com  \n",
       "2      domain  glthubs.com  \n",
       "4      domain  glthubs.com  \n",
       "5       email  glthubs.com  \n",
       "6      domain  glthubs.com  "
      ]
     },
     "execution_count": 9,
     "metadata": {},
     "output_type": "execute_result"
    }
   ],
   "source": [
    "df[df.lastSeen >= Timestamp('2020-04-04')]"
   ]
  },
  {
   "cell_type": "markdown",
   "metadata": {},
   "source": [
    "Here's how we would filter for a record type if we didn't do it using the function we wrote above:"
   ]
  },
  {
   "cell_type": "code",
   "execution_count": 10,
   "metadata": {},
   "outputs": [
    {
     "data": {
      "text/html": [
       "<div>\n",
       "<style scoped>\n",
       "    .dataframe tbody tr th:only-of-type {\n",
       "        vertical-align: middle;\n",
       "    }\n",
       "\n",
       "    .dataframe tbody tr th {\n",
       "        vertical-align: top;\n",
       "    }\n",
       "\n",
       "    .dataframe thead th {\n",
       "        text-align: right;\n",
       "    }\n",
       "</style>\n",
       "<table border=\"1\" class=\"dataframe\">\n",
       "  <thead>\n",
       "    <tr style=\"text-align: right;\">\n",
       "      <th></th>\n",
       "      <th>firstSeen</th>\n",
       "      <th>lastSeen</th>\n",
       "      <th>recordType</th>\n",
       "      <th>resolve</th>\n",
       "      <th>resolveType</th>\n",
       "      <th>value</th>\n",
       "    </tr>\n",
       "  </thead>\n",
       "  <tbody>\n",
       "    <tr>\n",
       "      <th>1</th>\n",
       "      <td>2020-04-03 17:00:00</td>\n",
       "      <td>2020-04-04 23:44:47</td>\n",
       "      <td>A</td>\n",
       "      <td>46.17.96.88</td>\n",
       "      <td>ip</td>\n",
       "      <td>glthubs.com</td>\n",
       "    </tr>\n",
       "    <tr>\n",
       "      <th>3</th>\n",
       "      <td>2020-04-03 12:42:30</td>\n",
       "      <td>2020-04-03 22:42:29</td>\n",
       "      <td>A</td>\n",
       "      <td>185.163.47.164</td>\n",
       "      <td>ip</td>\n",
       "      <td>glthubs.com</td>\n",
       "    </tr>\n",
       "  </tbody>\n",
       "</table>\n",
       "</div>"
      ],
      "text/plain": [
       "            firstSeen            lastSeen recordType         resolve  \\\n",
       "1 2020-04-03 17:00:00 2020-04-04 23:44:47          A     46.17.96.88   \n",
       "3 2020-04-03 12:42:30 2020-04-03 22:42:29          A  185.163.47.164   \n",
       "\n",
       "  resolveType        value  \n",
       "1          ip  glthubs.com  \n",
       "3          ip  glthubs.com  "
      ]
     },
     "execution_count": 10,
     "metadata": {},
     "output_type": "execute_result"
    }
   ],
   "source": [
    "df[df.recordType=='A']"
   ]
  },
  {
   "cell_type": "markdown",
   "metadata": {},
   "source": [
    "but we already anticipated that need, and we can filter it at query time like this:"
   ]
  },
  {
   "cell_type": "code",
   "execution_count": 11,
   "metadata": {},
   "outputs": [
    {
     "data": {
      "text/html": [
       "<div>\n",
       "<style scoped>\n",
       "    .dataframe tbody tr th:only-of-type {\n",
       "        vertical-align: middle;\n",
       "    }\n",
       "\n",
       "    .dataframe tbody tr th {\n",
       "        vertical-align: top;\n",
       "    }\n",
       "\n",
       "    .dataframe thead th {\n",
       "        text-align: right;\n",
       "    }\n",
       "</style>\n",
       "<table border=\"1\" class=\"dataframe\">\n",
       "  <thead>\n",
       "    <tr style=\"text-align: right;\">\n",
       "      <th></th>\n",
       "      <th>firstSeen</th>\n",
       "      <th>lastSeen</th>\n",
       "      <th>recordType</th>\n",
       "      <th>resolve</th>\n",
       "      <th>resolveType</th>\n",
       "      <th>value</th>\n",
       "    </tr>\n",
       "  </thead>\n",
       "  <tbody>\n",
       "    <tr>\n",
       "      <th>1</th>\n",
       "      <td>2020-04-03 17:00:00</td>\n",
       "      <td>2020-04-04 23:44:47</td>\n",
       "      <td>A</td>\n",
       "      <td>46.17.96.88</td>\n",
       "      <td>ip</td>\n",
       "      <td>glthubs.com</td>\n",
       "    </tr>\n",
       "    <tr>\n",
       "      <th>3</th>\n",
       "      <td>2020-04-03 12:42:30</td>\n",
       "      <td>2020-04-03 22:42:29</td>\n",
       "      <td>A</td>\n",
       "      <td>185.163.47.164</td>\n",
       "      <td>ip</td>\n",
       "      <td>glthubs.com</td>\n",
       "    </tr>\n",
       "  </tbody>\n",
       "</table>\n",
       "</div>"
      ],
      "text/plain": [
       "            firstSeen            lastSeen recordType         resolve  \\\n",
       "1 2020-04-03 17:00:00 2020-04-04 23:44:47          A     46.17.96.88   \n",
       "3 2020-04-03 12:42:30 2020-04-03 22:42:29          A  185.163.47.164   \n",
       "\n",
       "  resolveType        value  \n",
       "1          ip  glthubs.com  \n",
       "3          ip  glthubs.com  "
      ]
     },
     "execution_count": 11,
     "metadata": {},
     "output_type": "execute_result"
    }
   ],
   "source": [
    "df = pt2df('glthubs.com',rt='A')\n",
    "df"
   ]
  },
  {
   "cell_type": "code",
   "execution_count": null,
   "metadata": {},
   "outputs": [],
   "source": []
  }
 ],
 "metadata": {
  "kernelspec": {
   "display_name": "Python 3",
   "language": "python",
   "name": "python3"
  },
  "language_info": {
   "codemirror_mode": {
    "name": "ipython",
    "version": 3
   },
   "file_extension": ".py",
   "mimetype": "text/x-python",
   "name": "python",
   "nbconvert_exporter": "python",
   "pygments_lexer": "ipython3",
   "version": "3.7.6"
  }
 },
 "nbformat": 4,
 "nbformat_minor": 4
}
