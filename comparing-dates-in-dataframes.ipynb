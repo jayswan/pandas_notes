{
 "cells": [
  {
   "cell_type": "markdown",
   "metadata": {},
   "source": [
    "# Comparing Dates in DataFrames"
   ]
  },
  {
   "cell_type": "code",
   "execution_count": 19,
   "metadata": {},
   "outputs": [],
   "source": [
    "import pandas as pd"
   ]
  },
  {
   "cell_type": "markdown",
   "metadata": {},
   "source": [
    "Here we have a DataFrame of some passive DNS data pulled from the PassiveTotal API:"
   ]
  },
  {
   "cell_type": "code",
   "execution_count": 23,
   "metadata": {},
   "outputs": [
    {
     "data": {
      "text/html": [
       "<div>\n",
       "<style scoped>\n",
       "    .dataframe tbody tr th:only-of-type {\n",
       "        vertical-align: middle;\n",
       "    }\n",
       "\n",
       "    .dataframe tbody tr th {\n",
       "        vertical-align: top;\n",
       "    }\n",
       "\n",
       "    .dataframe thead th {\n",
       "        text-align: right;\n",
       "    }\n",
       "</style>\n",
       "<table border=\"1\" class=\"dataframe\">\n",
       "  <thead>\n",
       "    <tr style=\"text-align: right;\">\n",
       "      <th></th>\n",
       "      <th>firstSeen</th>\n",
       "      <th>lastSeen</th>\n",
       "      <th>queryType</th>\n",
       "      <th>queryValue</th>\n",
       "      <th>recordType</th>\n",
       "      <th>resolve</th>\n",
       "      <th>resolveType</th>\n",
       "      <th>value</th>\n",
       "    </tr>\n",
       "  </thead>\n",
       "  <tbody>\n",
       "    <tr>\n",
       "      <th>1</th>\n",
       "      <td>2020-03-18 10:25:48</td>\n",
       "      <td>2020-03-29 01:16:58</td>\n",
       "      <td>domain</td>\n",
       "      <td>covid19.direct</td>\n",
       "      <td>A</td>\n",
       "      <td>104.24.100.110</td>\n",
       "      <td>ip</td>\n",
       "      <td>covid19.direct</td>\n",
       "    </tr>\n",
       "    <tr>\n",
       "      <th>3</th>\n",
       "      <td>2020-03-18 10:25:48</td>\n",
       "      <td>2020-03-29 01:16:58</td>\n",
       "      <td>domain</td>\n",
       "      <td>covid19.direct</td>\n",
       "      <td>A</td>\n",
       "      <td>104.24.101.110</td>\n",
       "      <td>ip</td>\n",
       "      <td>covid19.direct</td>\n",
       "    </tr>\n",
       "    <tr>\n",
       "      <th>8</th>\n",
       "      <td>2020-03-18 09:10:32</td>\n",
       "      <td>2020-03-18 09:44:44</td>\n",
       "      <td>domain</td>\n",
       "      <td>covid19.direct</td>\n",
       "      <td>A</td>\n",
       "      <td>207.154.254.152</td>\n",
       "      <td>ip</td>\n",
       "      <td>covid19.direct</td>\n",
       "    </tr>\n",
       "  </tbody>\n",
       "</table>\n",
       "</div>"
      ],
      "text/plain": [
       "             firstSeen             lastSeen queryType      queryValue  \\\n",
       "1  2020-03-18 10:25:48  2020-03-29 01:16:58    domain  covid19.direct   \n",
       "3  2020-03-18 10:25:48  2020-03-29 01:16:58    domain  covid19.direct   \n",
       "8  2020-03-18 09:10:32  2020-03-18 09:44:44    domain  covid19.direct   \n",
       "\n",
       "  recordType          resolve resolveType           value  \n",
       "1          A   104.24.100.110          ip  covid19.direct  \n",
       "3          A   104.24.101.110          ip  covid19.direct  \n",
       "8          A  207.154.254.152          ip  covid19.direct  "
      ]
     },
     "execution_count": 23,
     "metadata": {},
     "output_type": "execute_result"
    }
   ],
   "source": [
    "df.head()"
   ]
  },
  {
   "cell_type": "markdown",
   "metadata": {},
   "source": [
    "As a simple example, let's say we only want rows that were last seen after March 20.\n",
    "\n",
    "First, we'll convert the `lastSeen` column to a datetime:"
   ]
  },
  {
   "cell_type": "code",
   "execution_count": 25,
   "metadata": {},
   "outputs": [
    {
     "data": {
      "text/html": [
       "<div>\n",
       "<style scoped>\n",
       "    .dataframe tbody tr th:only-of-type {\n",
       "        vertical-align: middle;\n",
       "    }\n",
       "\n",
       "    .dataframe tbody tr th {\n",
       "        vertical-align: top;\n",
       "    }\n",
       "\n",
       "    .dataframe thead th {\n",
       "        text-align: right;\n",
       "    }\n",
       "</style>\n",
       "<table border=\"1\" class=\"dataframe\">\n",
       "  <thead>\n",
       "    <tr style=\"text-align: right;\">\n",
       "      <th></th>\n",
       "      <th>firstSeen</th>\n",
       "      <th>lastSeen</th>\n",
       "      <th>queryType</th>\n",
       "      <th>queryValue</th>\n",
       "      <th>recordType</th>\n",
       "      <th>resolve</th>\n",
       "      <th>resolveType</th>\n",
       "      <th>value</th>\n",
       "    </tr>\n",
       "  </thead>\n",
       "  <tbody>\n",
       "    <tr>\n",
       "      <th>1</th>\n",
       "      <td>2020-03-18 10:25:48</td>\n",
       "      <td>2020-03-29 01:16:58</td>\n",
       "      <td>domain</td>\n",
       "      <td>covid19.direct</td>\n",
       "      <td>A</td>\n",
       "      <td>104.24.100.110</td>\n",
       "      <td>ip</td>\n",
       "      <td>covid19.direct</td>\n",
       "    </tr>\n",
       "    <tr>\n",
       "      <th>3</th>\n",
       "      <td>2020-03-18 10:25:48</td>\n",
       "      <td>2020-03-29 01:16:58</td>\n",
       "      <td>domain</td>\n",
       "      <td>covid19.direct</td>\n",
       "      <td>A</td>\n",
       "      <td>104.24.101.110</td>\n",
       "      <td>ip</td>\n",
       "      <td>covid19.direct</td>\n",
       "    </tr>\n",
       "    <tr>\n",
       "      <th>8</th>\n",
       "      <td>2020-03-18 09:10:32</td>\n",
       "      <td>2020-03-18 09:44:44</td>\n",
       "      <td>domain</td>\n",
       "      <td>covid19.direct</td>\n",
       "      <td>A</td>\n",
       "      <td>207.154.254.152</td>\n",
       "      <td>ip</td>\n",
       "      <td>covid19.direct</td>\n",
       "    </tr>\n",
       "  </tbody>\n",
       "</table>\n",
       "</div>"
      ],
      "text/plain": [
       "             firstSeen            lastSeen queryType      queryValue  \\\n",
       "1  2020-03-18 10:25:48 2020-03-29 01:16:58    domain  covid19.direct   \n",
       "3  2020-03-18 10:25:48 2020-03-29 01:16:58    domain  covid19.direct   \n",
       "8  2020-03-18 09:10:32 2020-03-18 09:44:44    domain  covid19.direct   \n",
       "\n",
       "  recordType          resolve resolveType           value  \n",
       "1          A   104.24.100.110          ip  covid19.direct  \n",
       "3          A   104.24.101.110          ip  covid19.direct  \n",
       "8          A  207.154.254.152          ip  covid19.direct  "
      ]
     },
     "execution_count": 25,
     "metadata": {},
     "output_type": "execute_result"
    }
   ],
   "source": [
    "df.lastSeen = pd.to_datetime(df.lastSeen)\n",
    "df"
   ]
  },
  {
   "cell_type": "markdown",
   "metadata": {},
   "source": [
    "Next we extract only the relevant date rows:"
   ]
  },
  {
   "cell_type": "code",
   "execution_count": 30,
   "metadata": {},
   "outputs": [
    {
     "data": {
      "text/html": [
       "<div>\n",
       "<style scoped>\n",
       "    .dataframe tbody tr th:only-of-type {\n",
       "        vertical-align: middle;\n",
       "    }\n",
       "\n",
       "    .dataframe tbody tr th {\n",
       "        vertical-align: top;\n",
       "    }\n",
       "\n",
       "    .dataframe thead th {\n",
       "        text-align: right;\n",
       "    }\n",
       "</style>\n",
       "<table border=\"1\" class=\"dataframe\">\n",
       "  <thead>\n",
       "    <tr style=\"text-align: right;\">\n",
       "      <th></th>\n",
       "      <th>firstSeen</th>\n",
       "      <th>lastSeen</th>\n",
       "      <th>queryType</th>\n",
       "      <th>queryValue</th>\n",
       "      <th>recordType</th>\n",
       "      <th>resolve</th>\n",
       "      <th>resolveType</th>\n",
       "      <th>value</th>\n",
       "    </tr>\n",
       "  </thead>\n",
       "  <tbody>\n",
       "    <tr>\n",
       "      <th>1</th>\n",
       "      <td>2020-03-18 10:25:48</td>\n",
       "      <td>2020-03-29 01:16:58</td>\n",
       "      <td>domain</td>\n",
       "      <td>covid19.direct</td>\n",
       "      <td>A</td>\n",
       "      <td>104.24.100.110</td>\n",
       "      <td>ip</td>\n",
       "      <td>covid19.direct</td>\n",
       "    </tr>\n",
       "    <tr>\n",
       "      <th>3</th>\n",
       "      <td>2020-03-18 10:25:48</td>\n",
       "      <td>2020-03-29 01:16:58</td>\n",
       "      <td>domain</td>\n",
       "      <td>covid19.direct</td>\n",
       "      <td>A</td>\n",
       "      <td>104.24.101.110</td>\n",
       "      <td>ip</td>\n",
       "      <td>covid19.direct</td>\n",
       "    </tr>\n",
       "  </tbody>\n",
       "</table>\n",
       "</div>"
      ],
      "text/plain": [
       "             firstSeen            lastSeen queryType      queryValue  \\\n",
       "1  2020-03-18 10:25:48 2020-03-29 01:16:58    domain  covid19.direct   \n",
       "3  2020-03-18 10:25:48 2020-03-29 01:16:58    domain  covid19.direct   \n",
       "\n",
       "  recordType         resolve resolveType           value  \n",
       "1          A  104.24.100.110          ip  covid19.direct  \n",
       "3          A  104.24.101.110          ip  covid19.direct  "
      ]
     },
     "execution_count": 30,
     "metadata": {},
     "output_type": "execute_result"
    }
   ],
   "source": [
    "df[df.lastSeen > pd.to_datetime('2020-03-20')]"
   ]
  },
  {
   "cell_type": "code",
   "execution_count": null,
   "metadata": {},
   "outputs": [],
   "source": []
  }
 ],
 "metadata": {
  "kernelspec": {
   "display_name": "Python 3",
   "language": "python",
   "name": "python3"
  },
  "language_info": {
   "codemirror_mode": {
    "name": "ipython",
    "version": 3
   },
   "file_extension": ".py",
   "mimetype": "text/x-python",
   "name": "python",
   "nbconvert_exporter": "python",
   "pygments_lexer": "ipython3",
   "version": "3.7.6"
  }
 },
 "nbformat": 4,
 "nbformat_minor": 2
}
